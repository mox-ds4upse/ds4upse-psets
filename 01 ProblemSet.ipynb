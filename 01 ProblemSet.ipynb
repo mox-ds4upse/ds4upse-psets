{
 "cells": [
  {
   "cell_type": "markdown",
   "metadata": {},
   "source": [
    "# **Problem Set: Cournot vs. Bertrand Competition in Python**\n",
    "*Objective: This problem set will strengthen your understanding of Python fundamentals while applying economic competition models. You will work with data types, functions, loops, classes, file handling, and GitHub collaboration.*\n",
    "\n",
    "---\n",
    "\n",
    "## **Background: Cournot vs. Bertrand Competition**\n",
    "\n",
    "In **Cournot competition**, firms **simultaneously choose output quantities**, assuming their competitor’s quantity is fixed. The **market price** is determined by total quantity supplied.\n",
    "\n",
    "In **Bertrand competition**, firms **simultaneously choose prices**, assuming the competitor’s price is fixed. The firm with the **lower price** captures the market.\n",
    "\n",
    "You will implement **both models** in Python using **classes and subclasses** while incorporating additional computational tools.\n",
    "\n",
    "---"
   ]
  },
  {
   "cell_type": "markdown",
   "metadata": {},
   "source": [
    "## **Part 1: Assigning Variables and Identifying Data Types**  \n",
    "\n",
    "**Instructions:**  \n",
    "1. Create **five** different variables relevant to market competition:\n",
    "   - A firm's **marginal cost** (float).\n",
    "   - A firm's **market demand** (integer).\n",
    "   - The **market price** (float).\n",
    "   - A boolean indicating whether the firm is a **monopoly**.\n",
    "   - A list of **competitor prices** (floats).\n",
    "2. Use Python's `type()` function to **print the data type** of each variable.\n",
    "\n",
    "---"
   ]
  },
  {
   "cell_type": "code",
   "execution_count": null,
   "metadata": {},
   "outputs": [],
   "source": [
    "# Variables that will be relevant to a market competition model"
   ]
  },
  {
   "cell_type": "code",
   "execution_count": null,
   "metadata": {},
   "outputs": [],
   "source": [
    "# Print the data type"
   ]
  },
  {
   "cell_type": "markdown",
   "metadata": {},
   "source": [
    "## **Part 2: Defining and Calling Functions**  \n",
    "\n",
    "**Instructions:**  \n",
    "1. Define a function `profit()` that:\n",
    "   - Takes **three arguments**: `price`, `quantity`, and `marginal_cost`.\n",
    "   - Returns **profit** using the formula:\n",
    "     $ \\pi =(P−MC) \\times Q $ \n",
    "   - Raises a **ValueError** if:\n",
    "     - The price is **lower** than marginal cost.\n",
    "     - The quantity is **negative**.\n",
    "2. Call the function using different values and **print the results**.\n",
    "\n",
    "---"
   ]
  },
  {
   "cell_type": "code",
   "execution_count": null,
   "metadata": {},
   "outputs": [],
   "source": [
    "# function here"
   ]
  },
  {
   "cell_type": "code",
   "execution_count": null,
   "metadata": {},
   "outputs": [],
   "source": [
    "# output here"
   ]
  },
  {
   "cell_type": "markdown",
   "metadata": {},
   "source": [
    "## **Part 3: Creating a Cournot Firm Class**  \n",
    "\n",
    "**Instructions:**  \n",
    "1. Create a class `CournotFirm` that:\n",
    "   - Has attributes: `marginal_cost`, `market_demand`, `competitor_quantity`.\n",
    "   - Defines a method `best_response()` that:\n",
    "     - Computes the **firm’s best quantity response** in Cournot competition, using:\n",
    "       $q^* = \\frac{(A - MC) - Q_c}{2}$       \n",
    "       where:\n",
    "       - $ A $ is market demand intercept.\n",
    "       - $ MC $ is the firm’s marginal cost.\n",
    "       - $ Q_c $ is the competitor’s quantity.\n",
    "2. Create an instance and **compute the firm’s optimal quantity**.\n",
    "\n",
    "---"
   ]
  },
  {
   "cell_type": "code",
   "execution_count": null,
   "metadata": {},
   "outputs": [],
   "source": [
    "# Create the CournotFirm class"
   ]
  },
  {
   "cell_type": "code",
   "execution_count": null,
   "metadata": {},
   "outputs": [],
   "source": [
    "# Print the output of the class here"
   ]
  },
  {
   "cell_type": "markdown",
   "metadata": {},
   "source": [
    "## **Part 4: Simulating Bertrand Price Competition with Loops**  \n",
    "\n",
    "**Instructions:**  \n",
    "1. Create a subclass `BertrandFirm`, which **inherits from `CournotFirm`** but instead **chooses price instead of quantity**.\n",
    "2. Modify the `best_response()` method so that in **Bertrand competition**, the firm **keeps lowering its price until it reaches marginal cost**, following the rule:\n",
    "   $P^* = P_c - \\epsilon$\n",
    "   where $\\epsilon $ is a small value.\n",
    "3. Use a `while` loop to **simulate repeated price reductions** until **equilibrium is reached**.\n",
    "4. Create an instance of `BertrandFirm` and **compute the firm’s optimal price**.\n",
    "\n",
    "---"
   ]
  },
  {
   "cell_type": "code",
   "execution_count": null,
   "metadata": {},
   "outputs": [],
   "source": [
    "# Create the subclass here"
   ]
  },
  {
   "cell_type": "code",
   "execution_count": null,
   "metadata": {},
   "outputs": [],
   "source": [
    "# Print the output of the subclass here"
   ]
  },
  {
   "cell_type": "markdown",
   "metadata": {},
   "source": [
    "## **Part 5: Storing and Analyzing Market Competition Data**  \n",
    "\n",
    "**Instructions:**  \n",
    "1. Store information about **multiple firms** in a dictionary:"
   ]
  },
  {
   "cell_type": "code",
   "execution_count": null,
   "metadata": {},
   "outputs": [],
   "source": [
    "firms = {\n",
    "       \"Firm A\": {\"marginal_cost\": 10, \"price\": 20},\n",
    "       \"Firm B\": {\"marginal_cost\": 12, \"price\": 22}\n",
    "   }"
   ]
  },
  {
   "cell_type": "markdown",
   "metadata": {},
   "source": [
    "2. Modify each firm’s equilibrium price using the Bertrand model.\n",
    "3. Store all **unique equilibrium prices** in a sequence that ensures **no duplicates**."
   ]
  },
  {
   "cell_type": "code",
   "execution_count": null,
   "metadata": {},
   "outputs": [],
   "source": [
    "# answer here"
   ]
  },
  {
   "cell_type": "markdown",
   "metadata": {},
   "source": [
    "## **Part 6: Reading and Writing Market Data to a File**  \n",
    "\n",
    "**Instructions:**  \n",
    "1. Write a function `save_results()` that:\n",
    "   - Takes a dictionary of firm data.\n",
    "   - Saves the data into a `.csv` file where each row represents a firm.\n",
    "   - Uses the **Pandas library** to write the file.\n",
    "   \n",
    "2. Write a function `load_results()` that:\n",
    "   - Reads the `.csv` file into a **Pandas DataFrame**.\n",
    "   - Prints the loaded data.\n",
    "\n",
    "3. Test the functions:\n",
    "   - Save firm data from Part 5 into a CSV file (`\"market_results.csv\"`).\n",
    "   - Load and print the results from the file."
   ]
  },
  {
   "cell_type": "code",
   "execution_count": null,
   "metadata": {},
   "outputs": [],
   "source": [
    "# answer here"
   ]
  },
  {
   "cell_type": "markdown",
   "metadata": {},
   "source": [
    "## **Part 7: List and Dictionary Comprehensions**  \n",
    "\n",
    "**Instructions:**  \n",
    "1. Given a **list of firms' equilibrium prices**, use **list comprehension** to compute **profit** for each firm.\n",
    "   - Assume each firm produces **50 units**.\n",
    "   - Use the function `profit(price, quantity, marginal_cost)` from Part 2.\n",
    "2. Convert the **dictionary of firms** into a **list of tuples sorted by price** using dictionary comprehension.\n",
    "\n",
    "---"
   ]
  },
  {
   "cell_type": "code",
   "execution_count": null,
   "metadata": {},
   "outputs": [],
   "source": [
    "# answer here"
   ]
  },
  {
   "cell_type": "code",
   "execution_count": null,
   "metadata": {},
   "outputs": [],
   "source": [
    "# output here"
   ]
  },
  {
   "cell_type": "markdown",
   "metadata": {},
   "source": [
    "## **Part 8: Simulating Market Variations with NumPy and Pandas**  \n",
    "\n",
    "**Instructions:**  \n",
    "1. Use **NumPy** to simulate:\n",
    "   - **Random marginal costs** for multiple firms (range between 5 and 15).\n",
    "   - **Random demand shocks** affecting market equilibrium.\n",
    "2. Store the generated firm data in a **Pandas DataFrame** with columns:\n",
    "   - `\"Firm\"`: Firm name\n",
    "   - `\"Marginal Cost\"`: Randomly generated cost\n",
    "   - `\"Market Demand\"`: Adjusted for demand shocks\n",
    "3. Compute and print **summary statistics** (mean, standard deviation) of marginal costs.\n",
    "4. Sort the firms by **marginal cost** and print the **top 3 most competitive firms**.\n",
    "\n",
    "---"
   ]
  },
  {
   "cell_type": "code",
   "execution_count": null,
   "metadata": {},
   "outputs": [],
   "source": [
    "# Simulation here"
   ]
  },
  {
   "cell_type": "code",
   "execution_count": null,
   "metadata": {},
   "outputs": [],
   "source": [
    "# Summary Statistics here"
   ]
  }
 ],
 "metadata": {
  "language_info": {
   "name": "python"
  }
 },
 "nbformat": 4,
 "nbformat_minor": 2
}
